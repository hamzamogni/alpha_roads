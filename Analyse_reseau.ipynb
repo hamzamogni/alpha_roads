{
 "cells": [
  {
   "cell_type": "code",
   "execution_count": 129,
   "id": "a283f51f",
   "metadata": {},
   "outputs": [],
   "source": [
    "import networkx as nx \n",
    "import matplotlib.pyplot as plt\n",
    "import geopandas\n",
    "import matplotlib.pyplot as plt\n",
    "import momepy\n",
    "import networkx as nx\n",
    "from contextily import add_basemap\n",
    "from libpysal import weights"
   ]
  },
  {
   "cell_type": "markdown",
   "id": "bafece4a",
   "metadata": {},
   "source": [
    "### Création du graphe\n",
    "\n",
    "On lit notre geojson généré par digitalisation des routes dan Qgis. Ensuite on le convertit en un graphe tout en créant des noeuds lorsqu'il y a des intersections."
   ]
  },
  {
   "cell_type": "code",
   "execution_count": 202,
   "id": "0e49dea4",
   "metadata": {},
   "outputs": [
    {
     "ename": "HTTPError",
     "evalue": "Tile URL resulted in a 404 error. Double-check your tile url:\nhttps://stamen-tiles-a.a.ssl.fastly.net/terrain/17/74978/60434.png",
     "output_type": "error",
     "traceback": [
      "\u001b[0;31m---------------------------------------------------------------------------\u001b[0m",
      "\u001b[0;31mHTTPError\u001b[0m                                 Traceback (most recent call last)",
      "\u001b[0;32m/media/internal_hdd/Softwares/anaconda3/lib/python3.8/site-packages/contextily/tile.py\u001b[0m in \u001b[0;36m_retryer\u001b[0;34m(tile_url, wait, max_retries)\u001b[0m\n\u001b[1;32m    395\u001b[0m         \u001b[0mrequest\u001b[0m \u001b[0;34m=\u001b[0m \u001b[0mrequests\u001b[0m\u001b[0;34m.\u001b[0m\u001b[0mget\u001b[0m\u001b[0;34m(\u001b[0m\u001b[0mtile_url\u001b[0m\u001b[0;34m,\u001b[0m \u001b[0mheaders\u001b[0m\u001b[0;34m=\u001b[0m\u001b[0;34m{\u001b[0m\u001b[0;34m\"user-agent\"\u001b[0m\u001b[0;34m:\u001b[0m \u001b[0mUSER_AGENT\u001b[0m\u001b[0;34m}\u001b[0m\u001b[0;34m)\u001b[0m\u001b[0;34m\u001b[0m\u001b[0;34m\u001b[0m\u001b[0m\n\u001b[0;32m--> 396\u001b[0;31m         \u001b[0mrequest\u001b[0m\u001b[0;34m.\u001b[0m\u001b[0mraise_for_status\u001b[0m\u001b[0;34m(\u001b[0m\u001b[0;34m)\u001b[0m\u001b[0;34m\u001b[0m\u001b[0;34m\u001b[0m\u001b[0m\n\u001b[0m\u001b[1;32m    397\u001b[0m     \u001b[0;32mexcept\u001b[0m \u001b[0mrequests\u001b[0m\u001b[0;34m.\u001b[0m\u001b[0mHTTPError\u001b[0m\u001b[0;34m:\u001b[0m\u001b[0;34m\u001b[0m\u001b[0;34m\u001b[0m\u001b[0m\n",
      "\u001b[0;32m/media/internal_hdd/Softwares/anaconda3/lib/python3.8/site-packages/requests/models.py\u001b[0m in \u001b[0;36mraise_for_status\u001b[0;34m(self)\u001b[0m\n\u001b[1;32m    959\u001b[0m         \u001b[0;32mif\u001b[0m \u001b[0mhttp_error_msg\u001b[0m\u001b[0;34m:\u001b[0m\u001b[0;34m\u001b[0m\u001b[0;34m\u001b[0m\u001b[0m\n\u001b[0;32m--> 960\u001b[0;31m             \u001b[0;32mraise\u001b[0m \u001b[0mHTTPError\u001b[0m\u001b[0;34m(\u001b[0m\u001b[0mhttp_error_msg\u001b[0m\u001b[0;34m,\u001b[0m \u001b[0mresponse\u001b[0m\u001b[0;34m=\u001b[0m\u001b[0mself\u001b[0m\u001b[0;34m)\u001b[0m\u001b[0;34m\u001b[0m\u001b[0;34m\u001b[0m\u001b[0m\n\u001b[0m\u001b[1;32m    961\u001b[0m \u001b[0;34m\u001b[0m\u001b[0m\n",
      "\u001b[0;31mHTTPError\u001b[0m: 404 Client Error: Not Found for url: https://stamen-tiles-a.a.ssl.fastly.net/terrain/17/74978/60434.png",
      "\nDuring handling of the above exception, another exception occurred:\n",
      "\u001b[0;31mHTTPError\u001b[0m                                 Traceback (most recent call last)",
      "\u001b[0;32m/tmp/ipykernel_261322/2138674565.py\u001b[0m in \u001b[0;36m<module>\u001b[0;34m\u001b[0m\n\u001b[1;32m     10\u001b[0m     \u001b[0mfacet\u001b[0m\u001b[0;34m.\u001b[0m\u001b[0mset_title\u001b[0m\u001b[0;34m(\u001b[0m\u001b[0;34m(\u001b[0m\u001b[0;34m\"Routes\"\u001b[0m\u001b[0;34m,\u001b[0m \u001b[0;34m\"Graph\"\u001b[0m\u001b[0;34m)\u001b[0m\u001b[0;34m[\u001b[0m\u001b[0mi\u001b[0m\u001b[0;34m]\u001b[0m\u001b[0;34m)\u001b[0m\u001b[0;34m\u001b[0m\u001b[0;34m\u001b[0m\u001b[0m\n\u001b[1;32m     11\u001b[0m     \u001b[0mfacet\u001b[0m\u001b[0;34m.\u001b[0m\u001b[0maxis\u001b[0m\u001b[0;34m(\u001b[0m\u001b[0;34m\"off\"\u001b[0m\u001b[0;34m)\u001b[0m\u001b[0;34m\u001b[0m\u001b[0;34m\u001b[0m\u001b[0m\n\u001b[0;32m---> 12\u001b[0;31m     \u001b[0madd_basemap\u001b[0m\u001b[0;34m(\u001b[0m\u001b[0mfacet\u001b[0m\u001b[0;34m)\u001b[0m\u001b[0;34m\u001b[0m\u001b[0;34m\u001b[0m\u001b[0m\n\u001b[0m\u001b[1;32m     13\u001b[0m \u001b[0;34m\u001b[0m\u001b[0m\n\u001b[1;32m     14\u001b[0m \u001b[0mnx\u001b[0m\u001b[0;34m.\u001b[0m\u001b[0mdraw\u001b[0m\u001b[0;34m(\u001b[0m\u001b[0mG\u001b[0m\u001b[0;34m,\u001b[0m \u001b[0mpositions\u001b[0m\u001b[0;34m,\u001b[0m \u001b[0max\u001b[0m\u001b[0;34m=\u001b[0m\u001b[0max\u001b[0m\u001b[0;34m[\u001b[0m\u001b[0;36m1\u001b[0m\u001b[0;34m]\u001b[0m\u001b[0;34m,\u001b[0m \u001b[0mnode_size\u001b[0m\u001b[0;34m=\u001b[0m\u001b[0;36m5\u001b[0m\u001b[0;34m)\u001b[0m\u001b[0;34m\u001b[0m\u001b[0;34m\u001b[0m\u001b[0m\n",
      "\u001b[0;32m/media/internal_hdd/Softwares/anaconda3/lib/python3.8/site-packages/contextily/plotting.py\u001b[0m in \u001b[0;36madd_basemap\u001b[0;34m(ax, zoom, source, interpolation, attribution, attribution_size, reset_extent, crs, resampling, **extra_imshow_args)\u001b[0m\n\u001b[1;32m    119\u001b[0m             )\n\u001b[1;32m    120\u001b[0m         \u001b[0;31m# Download image\u001b[0m\u001b[0;34m\u001b[0m\u001b[0;34m\u001b[0m\u001b[0;34m\u001b[0m\u001b[0m\n\u001b[0;32m--> 121\u001b[0;31m         image, extent = bounds2img(\n\u001b[0m\u001b[1;32m    122\u001b[0m             \u001b[0mleft\u001b[0m\u001b[0;34m,\u001b[0m \u001b[0mbottom\u001b[0m\u001b[0;34m,\u001b[0m \u001b[0mright\u001b[0m\u001b[0;34m,\u001b[0m \u001b[0mtop\u001b[0m\u001b[0;34m,\u001b[0m \u001b[0mzoom\u001b[0m\u001b[0;34m=\u001b[0m\u001b[0mzoom\u001b[0m\u001b[0;34m,\u001b[0m \u001b[0msource\u001b[0m\u001b[0;34m=\u001b[0m\u001b[0msource\u001b[0m\u001b[0;34m,\u001b[0m \u001b[0mll\u001b[0m\u001b[0;34m=\u001b[0m\u001b[0;32mFalse\u001b[0m\u001b[0;34m\u001b[0m\u001b[0;34m\u001b[0m\u001b[0m\n\u001b[1;32m    123\u001b[0m         )\n",
      "\u001b[0;32m/media/internal_hdd/Softwares/anaconda3/lib/python3.8/site-packages/contextily/tile.py\u001b[0m in \u001b[0;36mbounds2img\u001b[0;34m(w, s, e, n, zoom, source, ll, wait, max_retries)\u001b[0m\n\u001b[1;32m    220\u001b[0m         \u001b[0mx\u001b[0m\u001b[0;34m,\u001b[0m \u001b[0my\u001b[0m\u001b[0;34m,\u001b[0m \u001b[0mz\u001b[0m \u001b[0;34m=\u001b[0m \u001b[0mt\u001b[0m\u001b[0;34m.\u001b[0m\u001b[0mx\u001b[0m\u001b[0;34m,\u001b[0m \u001b[0mt\u001b[0m\u001b[0;34m.\u001b[0m\u001b[0my\u001b[0m\u001b[0;34m,\u001b[0m \u001b[0mt\u001b[0m\u001b[0;34m.\u001b[0m\u001b[0mz\u001b[0m\u001b[0;34m\u001b[0m\u001b[0;34m\u001b[0m\u001b[0m\n\u001b[1;32m    221\u001b[0m         \u001b[0mtile_url\u001b[0m \u001b[0;34m=\u001b[0m \u001b[0mprovider\u001b[0m\u001b[0;34m.\u001b[0m\u001b[0mbuild_url\u001b[0m\u001b[0;34m(\u001b[0m\u001b[0mx\u001b[0m\u001b[0;34m=\u001b[0m\u001b[0mx\u001b[0m\u001b[0;34m,\u001b[0m \u001b[0my\u001b[0m\u001b[0;34m=\u001b[0m\u001b[0my\u001b[0m\u001b[0;34m,\u001b[0m \u001b[0mz\u001b[0m\u001b[0;34m=\u001b[0m\u001b[0mz\u001b[0m\u001b[0;34m)\u001b[0m\u001b[0;34m\u001b[0m\u001b[0;34m\u001b[0m\u001b[0m\n\u001b[0;32m--> 222\u001b[0;31m         \u001b[0mimage\u001b[0m \u001b[0;34m=\u001b[0m \u001b[0m_fetch_tile\u001b[0m\u001b[0;34m(\u001b[0m\u001b[0mtile_url\u001b[0m\u001b[0;34m,\u001b[0m \u001b[0mwait\u001b[0m\u001b[0;34m,\u001b[0m \u001b[0mmax_retries\u001b[0m\u001b[0;34m)\u001b[0m\u001b[0;34m\u001b[0m\u001b[0;34m\u001b[0m\u001b[0m\n\u001b[0m\u001b[1;32m    223\u001b[0m         \u001b[0mtiles\u001b[0m\u001b[0;34m.\u001b[0m\u001b[0mappend\u001b[0m\u001b[0;34m(\u001b[0m\u001b[0mt\u001b[0m\u001b[0;34m)\u001b[0m\u001b[0;34m\u001b[0m\u001b[0;34m\u001b[0m\u001b[0m\n\u001b[1;32m    224\u001b[0m         \u001b[0marrays\u001b[0m\u001b[0;34m.\u001b[0m\u001b[0mappend\u001b[0m\u001b[0;34m(\u001b[0m\u001b[0mimage\u001b[0m\u001b[0;34m)\u001b[0m\u001b[0;34m\u001b[0m\u001b[0;34m\u001b[0m\u001b[0m\n",
      "\u001b[0;32m/media/internal_hdd/Softwares/anaconda3/lib/python3.8/site-packages/joblib/memory.py\u001b[0m in \u001b[0;36m__call__\u001b[0;34m(self, *args, **kwargs)\u001b[0m\n\u001b[1;32m    592\u001b[0m \u001b[0;34m\u001b[0m\u001b[0m\n\u001b[1;32m    593\u001b[0m     \u001b[0;32mdef\u001b[0m \u001b[0m__call__\u001b[0m\u001b[0;34m(\u001b[0m\u001b[0mself\u001b[0m\u001b[0;34m,\u001b[0m \u001b[0;34m*\u001b[0m\u001b[0margs\u001b[0m\u001b[0;34m,\u001b[0m \u001b[0;34m**\u001b[0m\u001b[0mkwargs\u001b[0m\u001b[0;34m)\u001b[0m\u001b[0;34m:\u001b[0m\u001b[0;34m\u001b[0m\u001b[0;34m\u001b[0m\u001b[0m\n\u001b[0;32m--> 594\u001b[0;31m         \u001b[0;32mreturn\u001b[0m \u001b[0mself\u001b[0m\u001b[0;34m.\u001b[0m\u001b[0m_cached_call\u001b[0m\u001b[0;34m(\u001b[0m\u001b[0margs\u001b[0m\u001b[0;34m,\u001b[0m \u001b[0mkwargs\u001b[0m\u001b[0;34m)\u001b[0m\u001b[0;34m[\u001b[0m\u001b[0;36m0\u001b[0m\u001b[0;34m]\u001b[0m\u001b[0;34m\u001b[0m\u001b[0;34m\u001b[0m\u001b[0m\n\u001b[0m\u001b[1;32m    595\u001b[0m \u001b[0;34m\u001b[0m\u001b[0m\n\u001b[1;32m    596\u001b[0m     \u001b[0;32mdef\u001b[0m \u001b[0m__getstate__\u001b[0m\u001b[0;34m(\u001b[0m\u001b[0mself\u001b[0m\u001b[0;34m)\u001b[0m\u001b[0;34m:\u001b[0m\u001b[0;34m\u001b[0m\u001b[0;34m\u001b[0m\u001b[0m\n",
      "\u001b[0;32m/media/internal_hdd/Softwares/anaconda3/lib/python3.8/site-packages/joblib/memory.py\u001b[0m in \u001b[0;36m_cached_call\u001b[0;34m(self, args, kwargs, shelving)\u001b[0m\n\u001b[1;32m    535\u001b[0m \u001b[0;34m\u001b[0m\u001b[0m\n\u001b[1;32m    536\u001b[0m         \u001b[0;32mif\u001b[0m \u001b[0mmust_call\u001b[0m\u001b[0;34m:\u001b[0m\u001b[0;34m\u001b[0m\u001b[0;34m\u001b[0m\u001b[0m\n\u001b[0;32m--> 537\u001b[0;31m             \u001b[0mout\u001b[0m\u001b[0;34m,\u001b[0m \u001b[0mmetadata\u001b[0m \u001b[0;34m=\u001b[0m \u001b[0mself\u001b[0m\u001b[0;34m.\u001b[0m\u001b[0mcall\u001b[0m\u001b[0;34m(\u001b[0m\u001b[0;34m*\u001b[0m\u001b[0margs\u001b[0m\u001b[0;34m,\u001b[0m \u001b[0;34m**\u001b[0m\u001b[0mkwargs\u001b[0m\u001b[0;34m)\u001b[0m\u001b[0;34m\u001b[0m\u001b[0;34m\u001b[0m\u001b[0m\n\u001b[0m\u001b[1;32m    538\u001b[0m             \u001b[0;32mif\u001b[0m \u001b[0mself\u001b[0m\u001b[0;34m.\u001b[0m\u001b[0mmmap_mode\u001b[0m \u001b[0;32mis\u001b[0m \u001b[0;32mnot\u001b[0m \u001b[0;32mNone\u001b[0m\u001b[0;34m:\u001b[0m\u001b[0;34m\u001b[0m\u001b[0;34m\u001b[0m\u001b[0m\n\u001b[1;32m    539\u001b[0m                 \u001b[0;31m# Memmap the output at the first call to be consistent with\u001b[0m\u001b[0;34m\u001b[0m\u001b[0;34m\u001b[0m\u001b[0;34m\u001b[0m\u001b[0m\n",
      "\u001b[0;32m/media/internal_hdd/Softwares/anaconda3/lib/python3.8/site-packages/joblib/memory.py\u001b[0m in \u001b[0;36mcall\u001b[0;34m(self, *args, **kwargs)\u001b[0m\n\u001b[1;32m    777\u001b[0m         \u001b[0;32mif\u001b[0m \u001b[0mself\u001b[0m\u001b[0;34m.\u001b[0m\u001b[0m_verbose\u001b[0m \u001b[0;34m>\u001b[0m \u001b[0;36m0\u001b[0m\u001b[0;34m:\u001b[0m\u001b[0;34m\u001b[0m\u001b[0;34m\u001b[0m\u001b[0m\n\u001b[1;32m    778\u001b[0m             \u001b[0mprint\u001b[0m\u001b[0;34m(\u001b[0m\u001b[0mformat_call\u001b[0m\u001b[0;34m(\u001b[0m\u001b[0mself\u001b[0m\u001b[0;34m.\u001b[0m\u001b[0mfunc\u001b[0m\u001b[0;34m,\u001b[0m \u001b[0margs\u001b[0m\u001b[0;34m,\u001b[0m \u001b[0mkwargs\u001b[0m\u001b[0;34m)\u001b[0m\u001b[0;34m)\u001b[0m\u001b[0;34m\u001b[0m\u001b[0;34m\u001b[0m\u001b[0m\n\u001b[0;32m--> 779\u001b[0;31m         \u001b[0moutput\u001b[0m \u001b[0;34m=\u001b[0m \u001b[0mself\u001b[0m\u001b[0;34m.\u001b[0m\u001b[0mfunc\u001b[0m\u001b[0;34m(\u001b[0m\u001b[0;34m*\u001b[0m\u001b[0margs\u001b[0m\u001b[0;34m,\u001b[0m \u001b[0;34m**\u001b[0m\u001b[0mkwargs\u001b[0m\u001b[0;34m)\u001b[0m\u001b[0;34m\u001b[0m\u001b[0;34m\u001b[0m\u001b[0m\n\u001b[0m\u001b[1;32m    780\u001b[0m         self.store_backend.dump_item(\n\u001b[1;32m    781\u001b[0m             [func_id, args_id], output, verbose=self._verbose)\n",
      "\u001b[0;32m/media/internal_hdd/Softwares/anaconda3/lib/python3.8/site-packages/contextily/tile.py\u001b[0m in \u001b[0;36m_fetch_tile\u001b[0;34m(tile_url, wait, max_retries)\u001b[0m\n\u001b[1;32m    250\u001b[0m \u001b[0;34m@\u001b[0m\u001b[0mmemory\u001b[0m\u001b[0;34m.\u001b[0m\u001b[0mcache\u001b[0m\u001b[0;34m\u001b[0m\u001b[0;34m\u001b[0m\u001b[0m\n\u001b[1;32m    251\u001b[0m \u001b[0;32mdef\u001b[0m \u001b[0m_fetch_tile\u001b[0m\u001b[0;34m(\u001b[0m\u001b[0mtile_url\u001b[0m\u001b[0;34m,\u001b[0m \u001b[0mwait\u001b[0m\u001b[0;34m,\u001b[0m \u001b[0mmax_retries\u001b[0m\u001b[0;34m)\u001b[0m\u001b[0;34m:\u001b[0m\u001b[0;34m\u001b[0m\u001b[0;34m\u001b[0m\u001b[0m\n\u001b[0;32m--> 252\u001b[0;31m     \u001b[0mrequest\u001b[0m \u001b[0;34m=\u001b[0m \u001b[0m_retryer\u001b[0m\u001b[0;34m(\u001b[0m\u001b[0mtile_url\u001b[0m\u001b[0;34m,\u001b[0m \u001b[0mwait\u001b[0m\u001b[0;34m,\u001b[0m \u001b[0mmax_retries\u001b[0m\u001b[0;34m)\u001b[0m\u001b[0;34m\u001b[0m\u001b[0;34m\u001b[0m\u001b[0m\n\u001b[0m\u001b[1;32m    253\u001b[0m     \u001b[0;32mwith\u001b[0m \u001b[0mio\u001b[0m\u001b[0;34m.\u001b[0m\u001b[0mBytesIO\u001b[0m\u001b[0;34m(\u001b[0m\u001b[0mrequest\u001b[0m\u001b[0;34m.\u001b[0m\u001b[0mcontent\u001b[0m\u001b[0;34m)\u001b[0m \u001b[0;32mas\u001b[0m \u001b[0mimage_stream\u001b[0m\u001b[0;34m:\u001b[0m\u001b[0;34m\u001b[0m\u001b[0;34m\u001b[0m\u001b[0m\n\u001b[1;32m    254\u001b[0m         \u001b[0mimage\u001b[0m \u001b[0;34m=\u001b[0m \u001b[0mImage\u001b[0m\u001b[0;34m.\u001b[0m\u001b[0mopen\u001b[0m\u001b[0;34m(\u001b[0m\u001b[0mimage_stream\u001b[0m\u001b[0;34m)\u001b[0m\u001b[0;34m.\u001b[0m\u001b[0mconvert\u001b[0m\u001b[0;34m(\u001b[0m\u001b[0;34m\"RGBA\"\u001b[0m\u001b[0;34m)\u001b[0m\u001b[0;34m\u001b[0m\u001b[0;34m\u001b[0m\u001b[0m\n",
      "\u001b[0;32m/media/internal_hdd/Softwares/anaconda3/lib/python3.8/site-packages/contextily/tile.py\u001b[0m in \u001b[0;36m_retryer\u001b[0;34m(tile_url, wait, max_retries)\u001b[0m\n\u001b[1;32m    397\u001b[0m     \u001b[0;32mexcept\u001b[0m \u001b[0mrequests\u001b[0m\u001b[0;34m.\u001b[0m\u001b[0mHTTPError\u001b[0m\u001b[0;34m:\u001b[0m\u001b[0;34m\u001b[0m\u001b[0;34m\u001b[0m\u001b[0m\n\u001b[1;32m    398\u001b[0m         \u001b[0;32mif\u001b[0m \u001b[0mrequest\u001b[0m\u001b[0;34m.\u001b[0m\u001b[0mstatus_code\u001b[0m \u001b[0;34m==\u001b[0m \u001b[0;36m404\u001b[0m\u001b[0;34m:\u001b[0m\u001b[0;34m\u001b[0m\u001b[0;34m\u001b[0m\u001b[0m\n\u001b[0;32m--> 399\u001b[0;31m             raise requests.HTTPError(\n\u001b[0m\u001b[1;32m    400\u001b[0m                 \u001b[0;34m\"Tile URL resulted in a 404 error. \"\u001b[0m\u001b[0;34m\u001b[0m\u001b[0;34m\u001b[0m\u001b[0m\n\u001b[1;32m    401\u001b[0m                 \u001b[0;34m\"Double-check your tile url:\\n{}\"\u001b[0m\u001b[0;34m.\u001b[0m\u001b[0mformat\u001b[0m\u001b[0;34m(\u001b[0m\u001b[0mtile_url\u001b[0m\u001b[0;34m)\u001b[0m\u001b[0;34m\u001b[0m\u001b[0;34m\u001b[0m\u001b[0m\n",
      "\u001b[0;31mHTTPError\u001b[0m: Tile URL resulted in a 404 error. Double-check your tile url:\nhttps://stamen-tiles-a.a.ssl.fastly.net/terrain/17/74978/60434.png"
     ]
    },
    {
     "data": {
      "image/png": "[encoded data removed]",
      "text/plain": [
       "<Figure size 864x432 with 2 Axes>"
      ]
     },
     "metadata": {
      "needs_background": "light"
     },
     "output_type": "display_data"
    }
   ],
   "source": [
    "roads = geopandas.read_file(\"roads.geojson\").to_crs(3035)\n",
    "G = momepy.gdf_to_nx(roads, approach=\"primal\", multigraph=False)\n",
    "\n",
    "positions = {n: [n[0], n[1]] for n in list(G.nodes)}\n",
    "\n",
    "# Plot\n",
    "f, ax = plt.subplots(1, 2, figsize=(12, 6), sharex=True, sharey=True)\n",
    "roads.plot(color=\"k\", ax=ax[0])\n",
    "for i, facet in enumerate(ax):\n",
    "    facet.set_title((\"Routes\", \"Graph\")[i])\n",
    "    facet.axis(\"off\")\n",
    "\n",
    "nx.draw(G, positions, ax=ax[1], node_size=5)"
   ]
  },
  {
   "cell_type": "markdown",
   "id": "90f8ad45",
   "metadata": {},
   "source": [
    "### Enregitrement des noeuds\n",
    "\n",
    "On enregistre les noeuds générés sous forme de geojson"
   ]
  },
  {
   "cell_type": "code",
   "execution_count": 182,
   "id": "6c514dc6",
   "metadata": {},
   "outputs": [
    {
     "name": "stdout",
     "output_type": "stream",
     "text": [
      "     nodeID                   geometry\n",
      "0         0  POINT (-5.81318 35.76449)\n",
      "1         1  POINT (-5.81505 35.76409)\n",
      "2         2  POINT (-5.82012 35.76026)\n",
      "3         3  POINT (-5.82124 35.76082)\n",
      "4         4  POINT (-5.82696 35.76552)\n",
      "..      ...                        ...\n",
      "101     101  POINT (-5.82600 35.76489)\n",
      "102     102  POINT (-5.82576 35.76502)\n",
      "103     103  POINT (-5.82369 35.76433)\n",
      "104     104  POINT (-5.82378 35.76400)\n",
      "105     105  POINT (-5.82405 35.76383)\n",
      "\n",
      "[106 rows x 2 columns]\n"
     ]
    }
   ],
   "source": [
    "nodes, edges, W = momepy.nx_to_gdf(G, spatial_weights=True)\n",
    "nodes = nodes.to_crs(4326)\n",
    "nodes.to_file(\"nodes.geojson\")\n",
    "print(nodes)"
   ]
  },
  {
   "cell_type": "markdown",
   "id": "1098ea67",
   "metadata": {},
   "source": [
    "### Planarité\n",
    "\n",
    "On détérmine avec cette fonction si le graphe est planaire ou pas"
   ]
  },
  {
   "cell_type": "code",
   "execution_count": 183,
   "id": "d78bfd3a",
   "metadata": {},
   "outputs": [
    {
     "data": {
      "text/plain": [
       "True"
      ]
     },
     "execution_count": 183,
     "metadata": {},
     "output_type": "execute_result"
    }
   ],
   "source": [
    "def is_planar(graph):\n",
    "    return nx.check_planarity(graph)[0]\n",
    "\n",
    "is_planar(G)"
   ]
  },
  {
   "cell_type": "markdown",
   "id": "608cd5dd",
   "metadata": {},
   "source": [
    "## Nombre de cicrcuits:\n",
    "\n",
    "on calcule le nombre de circuits qui existe dans notre réseau"
   ]
  },
  {
   "cell_type": "code",
   "execution_count": 186,
   "id": "bdf1d801",
   "metadata": {},
   "outputs": [
    {
     "data": {
      "text/plain": [
       "56"
      ]
     },
     "execution_count": 186,
     "metadata": {},
     "output_type": "execute_result"
    }
   ],
   "source": [
    "def number_cycles(graph):\n",
    "    return len(nx.cycle_basis(graph))\n",
    "\n",
    "number_cycles(G)"
   ]
  },
  {
   "cell_type": "markdown",
   "id": "5e6e5b8f",
   "metadata": {},
   "source": [
    "## Topologie\n",
    "\n",
    "On calcule le nombre de noeuds et des liens existants\n"
   ]
  },
  {
   "cell_type": "code",
   "execution_count": 190,
   "id": "3d0bfae3",
   "metadata": {},
   "outputs": [
    {
     "name": "stdout",
     "output_type": "stream",
     "text": [
      "Noeuds: 106 \n",
      "Liens : 161\n"
     ]
    }
   ],
   "source": [
    "def topology(graph):\n",
    "    return (nx.number_of_nodes(graph), nx.number_of_edges(graph))\n",
    "\n",
    "nodes, edges = topology(G)\n",
    "print(\"Noeuds: {} \\nLiens : {}\".format(nodes, edges))"
   ]
  },
  {
   "cell_type": "markdown",
   "id": "9b063685",
   "metadata": {},
   "source": [
    "## Composantes connexes\n",
    "\n",
    "On calcule le nombre de composantes connexes existan dans notre graphe"
   ]
  },
  {
   "cell_type": "code",
   "execution_count": 191,
   "id": "2aa8fd1e",
   "metadata": {},
   "outputs": [
    {
     "data": {
      "text/plain": [
       "1"
      ]
     },
     "execution_count": 191,
     "metadata": {},
     "output_type": "execute_result"
    }
   ],
   "source": [
    "def components_count(graph):\n",
    "    return nx.number_connected_components(graph)\n",
    "\n",
    "components_count(G)"
   ]
  },
  {
   "cell_type": "markdown",
   "id": "83c52090",
   "metadata": {},
   "source": [
    "## Connexité\n",
    "\n",
    "les indicateurs de connexité traduit la facilité qu’un réseau offre pour relier\n",
    "deux sommet quelconques.\n",
    "\n",
    "On calcule 2 indicateurs de connexité:\n",
    "- Indicateur simple $IC_1 = \\frac{S - C}{S - 1}$\n",
    "\n",
    "\n",
    "- Indicateur pondéré $IC_2 = \\frac{\\Sigma(S_k²)}{S²}$"
   ]
  },
  {
   "cell_type": "code",
   "execution_count": 193,
   "id": "386f48f6",
   "metadata": {},
   "outputs": [
    {
     "name": "stdout",
     "output_type": "stream",
     "text": [
      "simple : 1.0\n",
      "weighted : 1.0\n"
     ]
    }
   ],
   "source": [
    "def connexity(graph, kind=\"weighted\"):\n",
    "    if kind not in [\"weighted\", \"simple\"]:\n",
    "        raise ValueError(\"kind should be either simple or weighted\")\n",
    "    \n",
    "    nodes_count, edges_count = topology(graph)\n",
    "    if kind == \"weighted\":\n",
    "        connected_components_nodes = [len(component)**2 for component in nx.connected_components(graph)]\n",
    "        return sum(connected_components_nodes) / nodes_count**2\n",
    "    \n",
    "    # simple connexity\n",
    "    return (nodes_count - components_count(graph)) / (nodes_count - 1)\n",
    "    \n",
    "print(\"simple : \" + str(connexity(G, kind=\"simple\")))\n",
    "print(\"weighted : \" + str(connexity(G)))"
   ]
  },
  {
   "cell_type": "markdown",
   "id": "5a2eec81",
   "metadata": {},
   "source": [
    "## Connectivité\n",
    "\n",
    "Ces indices sont basés sur la fréquence des liens ou échanges\n",
    "Ils mesurent la densité et la variété des relations possibles, directes ou indirectes\n",
    "entre les sommets d'un graphe.\n",
    "Ils précisent les différences entre des graphes connexes (qui ont tous des indices de\n",
    "connexités égaux à 100%).\n",
    "\n",
    "On calcule 4 indices de connectivités:\n",
    "- $\\beta = \\frac{L}{S}$. Si $\\beta \\geq 1$ on dit qu'il exite des circuits dans le graphe.\n",
    "- $\\gamma = \\frac{L}{L_{max}}$\n",
    "- Le nombre cyclomatique $\\mu = L - S + C$\n",
    "- $\\alpha = \\frac {\\mu}{\\mu_{max}}$\n",
    "\n",
    "Avec $L_{max} = 3(S - 2)$, $ \\mu_{max} = 2(S - 5)$,  dans le cas d'un graphe planaire et $L_{max} = \\frac {S(S - 1)}{2}$, $\\mu_{max}\\frac{S(S - 1)}{2} - (S - 1)$ si le graphe n'est pas planaire."
   ]
  },
  {
   "cell_type": "code",
   "execution_count": 194,
   "id": "f4de0b0d",
   "metadata": {},
   "outputs": [
    {
     "name": "stdout",
     "output_type": "stream",
     "text": [
      "Mu : 56\n",
      "Alpha : 0.27\n",
      "Beta : 1.52\n",
      "Gamma : 0.52\n"
     ]
    }
   ],
   "source": [
    "def connectivity(graph, kind=\"alpha\"):\n",
    "    if kind not in [\"alpha\", \"mu\", \"beta\", \"gamma\"]:\n",
    "        raise ValueError(\"kind should be either alpha, beta, mu or gamma\")\n",
    "        \n",
    "    nodes_count, edges_count = topology(graph)\n",
    "    \n",
    "    if kind == \"mu\":\n",
    "        return len(nx.cycle_basis(graph))\n",
    "    \n",
    "    if kind == \"alpha\":\n",
    "        cycles = len(nx.cycle_basis(graph))\n",
    "        \n",
    "        if is_planar(graph):\n",
    "            max_cycles = 2 * nodes_count - 5\n",
    "        else:\n",
    "            max_cycles = nodes_count * ((nodes_count - 1) / 2) - nodes_count + 1\n",
    "        \n",
    "        return round(cycles / max_cycles, 2)\n",
    "    \n",
    "    if kind == \"beta\":\n",
    "        return round(edges_count / nodes_count, 2)\n",
    "    \n",
    "    if kind == \"gamma\":\n",
    "        l_max = 3 * (nodes_count - 2) if is_planar(graph) else (nodes_count * (nodes_count - 1)) / 2\n",
    "        return round(edges_count / l_max, 2)\n",
    "\n",
    "print(\"Mu : \" + str(connectivity(G, \"mu\")))\n",
    "print(\"Alpha : \" + str(connectivity(G, \"alpha\")))\n",
    "print(\"Beta : \" + str(connectivity(G, \"beta\")))\n",
    "print(\"Gamma : \" + str(connectivity(G, \"gamma\")))"
   ]
  },
  {
   "cell_type": "markdown",
   "id": "6c4301cd",
   "metadata": {},
   "source": [
    "## Centralité de degrée ou d'ordre\n",
    "\n",
    "C’est le nombre de liaisons directes qui partent d'un point d’accès"
   ]
  },
  {
   "cell_type": "code",
   "execution_count": 195,
   "id": "90e14828",
   "metadata": {},
   "outputs": [
    {
     "data": {
      "text/plain": [
       "[((2887079.5763969366, 1559802.011713958), 2),\n",
       " ((2887100.871671437, 1559755.397454131), 3),\n",
       " ((2887110.5316347494, 1559816.0568637375), 3),\n",
       " ((2887123.3623989914, 1559706.1123753788), 3),\n",
       " ((2887132.435851993, 1559767.7940775605), 4),\n",
       " ((2887135.9731415715, 1559824.836663695), 3),\n",
       " ((2887152.0485982066, 1559715.4220512877), 3),\n",
       " ((2887152.697572193, 1559780.1949575704), 4),\n",
       " ((2887159.8499835515, 1559718.1821240208), 3),\n",
       " ((2887176.384916787, 1559724.68132101), 3),\n",
       " ((2887178.2640544623, 1559842.5173799922), 3),\n",
       " ((2887179.4620559593, 1559593.7841828177), 3),\n",
       " ((2887181.9327387, 1559726.309037784), 3),\n",
       " ((2887190.594470237, 1559572.0924210849), 4),\n",
       " ((2887197.230824969, 1559801.182651739), 3),\n",
       " ((2887197.961701991, 1559851.843258065), 3),\n",
       " ((2887199.4565340905, 1559796.3726287894), 3),\n",
       " ((2887210.7529460033, 1559737.675200742), 1),\n",
       " ((2887213.082745106, 1559605.178294424), 4),\n",
       " ((2887214.6837987667, 1559808.2864073152), 2),\n",
       " ((2887214.880775663, 1559508.31709085), 3),\n",
       " ((2887219.3691683714, 1559740.345856186), 3),\n",
       " ((2887224.407996079, 1559864.108676379), 3),\n",
       " ((2887228.4881830364, 1559481.9691707962), 4),\n",
       " ((2887232.0161624076, 1559614.3294335573), 3),\n",
       " ((2887232.974450433, 1559744.4931052418), 3),\n",
       " ((2887235.1211896325, 1559551.3129049516), 3),\n",
       " ((2887239.556669873, 1559616.0261651464), 3),\n",
       " ((2887242.163822275, 1559570.3881661573), 3),\n",
       " ((2887260.033073385, 1559624.6389137376), 4),\n",
       " ((2887260.302943143, 1559492.1328033272), 1),\n",
       " ((2887263.214700845, 1559396.5081615676), 3),\n",
       " ((2887264.1972992253, 1559560.2659026743), 3),\n",
       " ((2887271.5759487804, 1559402.4944664524), 3),\n",
       " ((2887279.4470622046, 1559449.9574906032), 2),\n",
       " ((2887282.6251003584, 1559393.6914883475), 3),\n",
       " ((2887283.3397563463, 1559634.8713954492), 3),\n",
       " ((2887284.5139441686, 1559499.4704794767), 6),\n",
       " ((2887291.4384144973, 1559369.9555601832), 3),\n",
       " ((2887294.931937963, 1559485.3739864533), 3),\n",
       " ((2887299.280435082, 1559432.0336368603), 3),\n",
       " ((2887304.1281499686, 1559475.7197164344), 4),\n",
       " ((2887304.647258883, 1559564.2120431056), 1),\n",
       " ((2887313.160665299, 1559583.9360302244), 3),\n",
       " ((2887314.3775695106, 1559467.476510036), 3),\n",
       " ((2887323.370484027, 1559456.7248641935), 4),\n",
       " ((2887325.388167255, 1559520.8202402752), 3),\n",
       " ((2887328.103184602, 1559857.9402227593), 3),\n",
       " ((2887332.1513072383, 1559577.6031499126), 2),\n",
       " ((2887334.484205059, 1559447.1346010794), 4),\n",
       " ((2887334.5866174875, 1559524.7031226426), 3),\n",
       " ((2887338.898213451, 1559593.7600706597), 3),\n",
       " ((2887343.261525986, 1559437.7371287679), 4),\n",
       " ((2887347.422521723, 1559611.1889873182), 3),\n",
       " ((2887350.006628095, 1559530.831963563), 3),\n",
       " ((2887350.5481586475, 1559734.3294361227), 3),\n",
       " ((2887354.7705359627, 1559429.1548480357), 3),\n",
       " ((2887365.789062701, 1559605.5442453218), 3),\n",
       " ((2887373.592767297, 1559608.2669084566), 3),\n",
       " ((2887376.6304187467, 1559406.0504239143), 3),\n",
       " ((2887383.8911350546, 1559544.6788259242), 3),\n",
       " ((2887384.47604606, 1559538.040844532), 3),\n",
       " ((2887387.0961364103, 1559523.2010790964), 3),\n",
       " ((2887390.2784807207, 1559507.4791870331), 3),\n",
       " ((2887393.7142396774, 1559489.5194717045), 3),\n",
       " ((2887396.616577056, 1559470.815343217), 3),\n",
       " ((2887405.480998647, 1559418.0087870795), 3),\n",
       " ((2887409.842676647, 1559396.8430282664), 3),\n",
       " ((2887426.093461973, 1559296.3262185543), 3),\n",
       " ((2887431.0046740863, 1559238.2313336667), 3),\n",
       " ((2887445.8154469277, 1559744.106482839), 4),\n",
       " ((2887446.016114968, 1559292.1562482726), 3),\n",
       " ((2887448.0928264735, 1559854.6244945966), 3),\n",
       " ((2887453.683420209, 1559399.759849896), 3),\n",
       " ((2887459.897766806, 1559363.0442803074), 3),\n",
       " ((2887463.4499106454, 1559327.0837383284), 3),\n",
       " ((2887487.777341879, 1559268.1597327425), 3),\n",
       " ((2887496.377101137, 1559185.5645889188), 3),\n",
       " ((2887506.256236868, 1559304.120935226), 4),\n",
       " ((2887520.3783636326, 1559332.3972983211), 4),\n",
       " ((2887535.1924636727, 1559356.206391433), 3),\n",
       " ((2887551.7425595922, 1559232.2859743957), 3),\n",
       " ((2887566.310459907, 1559305.2935832653), 3),\n",
       " ((2887585.175692118, 1559103.541461353), 2),\n",
       " ((2887592.099064801, 1559329.5957901336), 3),\n",
       " ((2887595.712716776, 1559749.4942305451), 3),\n",
       " ((2887608.155696878, 1559852.4882998355), 3),\n",
       " ((2887643.078228212, 1559305.8166104131), 3),\n",
       " ((2887738.8232167894, 1559392.6569636273), 3),\n",
       " ((2887749.2523372304, 1559728.2635135183), 3),\n",
       " ((2887778.3843564913, 1559840.5846167805), 3),\n",
       " ((2887804.9980907775, 1559786.4278225482), 3),\n",
       " ((2887844.9058529483, 1559505.636170154), 3),\n",
       " ((2887907.799056274, 1559435.8035229356), 4),\n",
       " ((2887912.4964501252, 1559582.130367831), 3),\n",
       " ((2887930.0227303766, 1559405.833898464), 3),\n",
       " ((2887943.12884311, 1559389.3059002783), 3),\n",
       " ((2888009.7255374426, 1559633.4903572868), 3),\n",
       " ((2888057.0249498296, 1559658.970403075), 3),\n",
       " ((2888065.2359971604, 1559542.0636994846), 3),\n",
       " ((2888077.065347977, 1559620.3947931076), 2),\n",
       " ((2888101.826026663, 1559451.7649436567), 3),\n",
       " ((2888112.984921865, 1559424.8218111002), 3),\n",
       " ((2888142.852814935, 1559716.5480214264), 3),\n",
       " ((2888203.3335616216, 1559780.211827004), 3),\n",
       " ((2888287.6031463104, 1559432.889066195), 2)]"
      ]
     },
     "execution_count": 195,
     "metadata": {},
     "output_type": "execute_result"
    }
   ],
   "source": [
    "def centrality_degree(graph):\n",
    "    return sorted(nx.degree(graph))\n",
    "\n",
    "centrality_degree(G)"
   ]
  },
  {
   "cell_type": "markdown",
   "id": "dd199894",
   "metadata": {},
   "source": [
    "## Centralité d'éloignement moyenne des noeuds\n",
    "\n",
    "C’est la distance moyenne entre un sommet et l'ensemble des autres sommets.\n",
    "\n",
    "On calcule d'abord les distances des plus court chemins entre les pairs de noeuds,\n",
    "et ensuite on calcule la moyenne pour chaque noeuds"
   ]
  },
  {
   "cell_type": "code",
   "execution_count": 196,
   "id": "339067d8",
   "metadata": {},
   "outputs": [
    {
     "data": {
      "text/plain": [
       "{(2888287.6031463104, 1559432.889066195): 7.6,\n",
       " (2888112.984921865, 1559424.8218111002): 7.5,\n",
       " (2887585.175692118, 1559103.541461353): 6.9,\n",
       " (2887496.377101137, 1559185.5645889188): 6.4,\n",
       " (2887079.5763969366, 1559802.011713958): 8.4,\n",
       " (2887110.5316347494, 1559816.0568637375): 8.4,\n",
       " (2888203.3335616216, 1559780.211827004): 7.4,\n",
       " (2888142.852814935, 1559716.5480214264): 8.2,\n",
       " (2887328.103184602, 1559857.9402227593): 6.3,\n",
       " (2887350.5481586475, 1559734.3294361227): 6.0,\n",
       " (2887405.480998647, 1559418.0087870795): 6.8,\n",
       " (2887376.6304187467, 1559406.0504239143): 6.4,\n",
       " (2887214.880775663, 1559508.31709085): 6.1,\n",
       " (2887190.594470237, 1559572.0924210849): 6.5,\n",
       " (2888009.7255374426, 1559633.4903572868): 8.0,\n",
       " (2888065.2359971604, 1559542.0636994846): 8.1,\n",
       " (2887738.8232167894, 1559392.6569636273): 7.3,\n",
       " (2887907.799056274, 1559435.8035229356): 7.6,\n",
       " (2887844.9058529483, 1559505.636170154): 7.3,\n",
       " (2888101.826026663, 1559451.7649436567): 8.1,\n",
       " (2887930.0227303766, 1559405.833898464): 7.7,\n",
       " (2887778.3843564913, 1559840.5846167805): 7.1,\n",
       " (2887804.9980907775, 1559786.4278225482): 6.9,\n",
       " (2887749.2523372304, 1559728.2635135183): 6.6,\n",
       " (2887595.712716776, 1559749.4942305451): 6.9,\n",
       " (2887608.155696878, 1559852.4882998355): 6.8,\n",
       " (2888077.065347977, 1559620.3947931076): 9.0,\n",
       " (2887643.078228212, 1559305.8166104131): 7.1,\n",
       " (2887592.099064801, 1559329.5957901336): 7.8,\n",
       " (2887453.683420209, 1559399.759849896): 7.7,\n",
       " (2887459.897766806, 1559363.0442803074): 8.5,\n",
       " (2887566.310459907, 1559305.2935832653): 8.6,\n",
       " (2887520.3783636326, 1559332.3972983211): 8.8,\n",
       " (2887551.7425595922, 1559232.2859743957): 6.8,\n",
       " (2887487.777341879, 1559268.1597327425): 7.6,\n",
       " (2887463.4499106454, 1559327.0837383284): 8.1,\n",
       " (2887446.016114968, 1559292.1562482726): 7.3,\n",
       " (2887535.1924636727, 1559356.206391433): 8.0,\n",
       " (2887224.407996079, 1559864.108676379): 6.5,\n",
       " (2887232.974450433, 1559744.4931052418): 6.6,\n",
       " (2887197.961701991, 1559851.843258065): 7.3,\n",
       " (2887214.6837987667, 1559808.2864073152): 8.1,\n",
       " (2887197.230824969, 1559801.182651739): 8.2,\n",
       " (2887178.2640544623, 1559842.5173799922): 7.9,\n",
       " (2887199.4565340905, 1559796.3726287894): 7.7,\n",
       " (2887152.697572193, 1559780.1949575704): 7.9,\n",
       " (2887135.9731415715, 1559824.836663695): 8.1,\n",
       " (2887132.435851993, 1559767.7940775605): 8.1,\n",
       " (2887100.871671437, 1559755.397454131): 7.9,\n",
       " (2887373.592767297, 1559608.2669084566): 6.1,\n",
       " (2887365.789062701, 1559605.5442453218): 6.1,\n",
       " (2887283.3397563463, 1559634.8713954492): 6.6,\n",
       " (2887210.7529460033, 1559737.675200742): 7.5,\n",
       " (2887260.033073385, 1559624.6389137376): 6.5,\n",
       " (2887181.9327387, 1559726.309037784): 6.8,\n",
       " (2887232.0161624076, 1559614.3294335573): 6.6,\n",
       " (2887159.8499835515, 1559718.1821240208): 7.4,\n",
       " (2887213.082745106, 1559605.178294424): 6.9,\n",
       " (2887334.5866174875, 1559524.7031226426): 6.2,\n",
       " (2887338.898213451, 1559593.7600706597): 6.7,\n",
       " (2887313.160665299, 1559583.9360302244): 6.0,\n",
       " (2887284.5139441686, 1559499.4704794767): 5.6,\n",
       " (2887260.302943143, 1559492.1328033272): 7.3,\n",
       " (2887264.1972992253, 1559560.2659026743): 6.3,\n",
       " (2887228.4881830364, 1559481.9691707962): 5.5,\n",
       " (2887242.163822275, 1559570.3881661573): 6.8,\n",
       " (2887235.1211896325, 1559551.3129049516): 6.8,\n",
       " (2887354.7705359627, 1559429.1548480357): 7.0,\n",
       " (2887396.616577056, 1559470.815343217): 7.2,\n",
       " (2887393.7142396774, 1559489.5194717045): 7.2,\n",
       " (2887343.261525986, 1559437.7371287679): 7.1,\n",
       " (2887390.2784807207, 1559507.4791870331): 7.1,\n",
       " (2887334.484205059, 1559447.1346010794): 7.1,\n",
       " (2887387.0961364103, 1559523.2010790964): 6.8,\n",
       " (2887323.370484027, 1559456.7248641935): 6.7,\n",
       " (2887384.47604606, 1559538.040844532): 6.5,\n",
       " (2887314.3775695106, 1559467.476510036): 6.6,\n",
       " (2887350.006628095, 1559530.831963563): 6.5,\n",
       " (2887304.1281499686, 1559475.7197164344): 6.4,\n",
       " (2887325.388167255, 1559520.8202402752): 6.0,\n",
       " (2887294.931937963, 1559485.3739864533): 6.2,\n",
       " (2887506.256236868, 1559304.120935226): 8.4,\n",
       " (2887299.280435082, 1559432.0336368603): 6.6,\n",
       " (2887279.4470622046, 1559449.9574906032): 6.7,\n",
       " (2887431.0046740863, 1559238.2313336667): 6.0,\n",
       " (2887291.4384144973, 1559369.9555601832): 5.8,\n",
       " (2887448.0928264735, 1559854.6244945966): 6.5,\n",
       " (2887943.12884311, 1559389.3059002783): 7.2,\n",
       " (2887123.3623989914, 1559706.1123753788): 7.6,\n",
       " (2887179.4620559593, 1559593.7841828177): 6.8,\n",
       " (2887271.5759487804, 1559402.4944664524): 6.2,\n",
       " (2887263.214700845, 1559396.5081615676): 5.5,\n",
       " (2887426.093461973, 1559296.3262185543): 6.7,\n",
       " (2887409.842676647, 1559396.8430282664): 7.1,\n",
       " (2887282.6251003584, 1559393.6914883475): 6.8,\n",
       " (2887383.8911350546, 1559544.6788259242): 6.3,\n",
       " (2887219.3691683714, 1559740.345856186): 6.9,\n",
       " (2887445.8154469277, 1559744.106482839): 6.3,\n",
       " (2887912.4964501252, 1559582.130367831): 7.1,\n",
       " (2887239.556669873, 1559616.0261651464): 6.2,\n",
       " (2888057.0249498296, 1559658.970403075): 8.6,\n",
       " (2887152.0485982066, 1559715.4220512877): 7.8,\n",
       " (2887176.384916787, 1559724.68132101): 7.5,\n",
       " (2887347.422521723, 1559611.1889873182): 6.6,\n",
       " (2887332.1513072383, 1559577.6031499126): 6.6,\n",
       " (2887304.647258883, 1559564.2120431056): 7.9}"
      ]
     },
     "execution_count": 196,
     "metadata": {},
     "output_type": "execute_result"
    }
   ],
   "source": [
    "def nodes_centralite_eloignement_moyen(graph):\n",
    "    result = dict()\n",
    "    \n",
    "    pairs_shortest_path_length = nx.all_pairs_shortest_path_length(graph)\n",
    "    \n",
    "    for node, paths_length in pairs_shortest_path_length:\n",
    "        result[node] = round(sum(paths_length.values()) / (len(paths_length.values()) - 1 ), 1)\n",
    "    \n",
    "    return result\n",
    "\n",
    "nodes_centralite_eloignement_moyen(G)"
   ]
  },
  {
   "cell_type": "markdown",
   "id": "51c35d80",
   "metadata": {},
   "source": [
    "## Centralité d'éloignement moyenne du graphe\n",
    "\n",
    "C'est la moyenne de centralité d'éloignement pour tout le graphe"
   ]
  },
  {
   "cell_type": "code",
   "execution_count": 197,
   "id": "873fdf8d",
   "metadata": {},
   "outputs": [
    {
     "data": {
      "text/plain": [
       "7.1"
      ]
     },
     "execution_count": 197,
     "metadata": {},
     "output_type": "execute_result"
    }
   ],
   "source": [
    "def total_mean_centrality(graph):\n",
    "    return round(nx.average_shortest_path_length(graph), 1)\n",
    "\n",
    "total_mean_centrality(G)"
   ]
  },
  {
   "cell_type": "markdown",
   "id": "78539c25",
   "metadata": {},
   "source": [
    "### Centralité d'éloignement max:\n",
    "C’est la distance maximale entre un sommet et l'ensemble des\n",
    "autres sommets"
   ]
  },
  {
   "cell_type": "code",
   "execution_count": 198,
   "id": "de81c124",
   "metadata": {},
   "outputs": [
    {
     "data": {
      "text/plain": [
       "{(2888287.6031463104, 1559432.889066195): 12,\n",
       " (2888112.984921865, 1559424.8218111002): 12,\n",
       " (2887585.175692118, 1559103.541461353): 12,\n",
       " (2887496.377101137, 1559185.5645889188): 12,\n",
       " (2887079.5763969366, 1559802.011713958): 14,\n",
       " (2887110.5316347494, 1559816.0568637375): 15,\n",
       " (2888203.3335616216, 1559780.211827004): 12,\n",
       " (2888142.852814935, 1559716.5480214264): 13,\n",
       " (2887328.103184602, 1559857.9402227593): 12,\n",
       " (2887350.5481586475, 1559734.3294361227): 11,\n",
       " (2887405.480998647, 1559418.0087870795): 12,\n",
       " (2887376.6304187467, 1559406.0504239143): 12,\n",
       " (2887214.880775663, 1559508.31709085): 12,\n",
       " (2887190.594470237, 1559572.0924210849): 13,\n",
       " (2888009.7255374426, 1559633.4903572868): 14,\n",
       " (2888065.2359971604, 1559542.0636994846): 14,\n",
       " (2887738.8232167894, 1559392.6569636273): 13,\n",
       " (2887907.799056274, 1559435.8035229356): 13,\n",
       " (2887844.9058529483, 1559505.636170154): 13,\n",
       " (2888101.826026663, 1559451.7649436567): 13,\n",
       " (2887930.0227303766, 1559405.833898464): 13,\n",
       " (2887778.3843564913, 1559840.5846167805): 12,\n",
       " (2887804.9980907775, 1559786.4278225482): 12,\n",
       " (2887749.2523372304, 1559728.2635135183): 11,\n",
       " (2887595.712716776, 1559749.4942305451): 11,\n",
       " (2887608.155696878, 1559852.4882998355): 11,\n",
       " (2888077.065347977, 1559620.3947931076): 14,\n",
       " (2887643.078228212, 1559305.8166104131): 13,\n",
       " (2887592.099064801, 1559329.5957901336): 14,\n",
       " (2887453.683420209, 1559399.759849896): 14,\n",
       " (2887459.897766806, 1559363.0442803074): 15,\n",
       " (2887566.310459907, 1559305.2935832653): 15,\n",
       " (2887520.3783636326, 1559332.3972983211): 15,\n",
       " (2887551.7425595922, 1559232.2859743957): 13,\n",
       " (2887487.777341879, 1559268.1597327425): 14,\n",
       " (2887463.4499106454, 1559327.0837383284): 15,\n",
       " (2887446.016114968, 1559292.1562482726): 14,\n",
       " (2887535.1924636727, 1559356.206391433): 14,\n",
       " (2887224.407996079, 1559864.108676379): 13,\n",
       " (2887232.974450433, 1559744.4931052418): 13,\n",
       " (2887197.961701991, 1559851.843258065): 14,\n",
       " (2887214.6837987667, 1559808.2864073152): 15,\n",
       " (2887197.230824969, 1559801.182651739): 15,\n",
       " (2887178.2640544623, 1559842.5173799922): 15,\n",
       " (2887199.4565340905, 1559796.3726287894): 15,\n",
       " (2887152.697572193, 1559780.1949575704): 15,\n",
       " (2887135.9731415715, 1559824.836663695): 15,\n",
       " (2887132.435851993, 1559767.7940775605): 14,\n",
       " (2887100.871671437, 1559755.397454131): 14,\n",
       " (2887373.592767297, 1559608.2669084566): 11,\n",
       " (2887365.789062701, 1559605.5442453218): 12,\n",
       " (2887283.3397563463, 1559634.8713954492): 13,\n",
       " (2887210.7529460033, 1559737.675200742): 13,\n",
       " (2887260.033073385, 1559624.6389137376): 12,\n",
       " (2887181.9327387, 1559726.309037784): 13,\n",
       " (2887232.0161624076, 1559614.3294335573): 12,\n",
       " (2887159.8499835515, 1559718.1821240208): 13,\n",
       " (2887213.082745106, 1559605.178294424): 13,\n",
       " (2887334.5866174875, 1559524.7031226426): 11,\n",
       " (2887338.898213451, 1559593.7600706597): 12,\n",
       " (2887313.160665299, 1559583.9360302244): 12,\n",
       " (2887284.5139441686, 1559499.4704794767): 12,\n",
       " (2887260.302943143, 1559492.1328033272): 13,\n",
       " (2887264.1972992253, 1559560.2659026743): 12,\n",
       " (2887228.4881830364, 1559481.9691707962): 11,\n",
       " (2887242.163822275, 1559570.3881661573): 13,\n",
       " (2887235.1211896325, 1559551.3129049516): 13,\n",
       " (2887354.7705359627, 1559429.1548480357): 12,\n",
       " (2887396.616577056, 1559470.815343217): 12,\n",
       " (2887393.7142396774, 1559489.5194717045): 13,\n",
       " (2887343.261525986, 1559437.7371287679): 12,\n",
       " (2887390.2784807207, 1559507.4791870331): 12,\n",
       " (2887334.484205059, 1559447.1346010794): 13,\n",
       " (2887387.0961364103, 1559523.2010790964): 11,\n",
       " (2887323.370484027, 1559456.7248641935): 12,\n",
       " (2887384.47604606, 1559538.040844532): 10,\n",
       " (2887314.3775695106, 1559467.476510036): 11,\n",
       " (2887350.006628095, 1559530.831963563): 12,\n",
       " (2887304.1281499686, 1559475.7197164344): 11,\n",
       " (2887325.388167255, 1559520.8202402752): 11,\n",
       " (2887294.931937963, 1559485.3739864533): 12,\n",
       " (2887506.256236868, 1559304.120935226): 15,\n",
       " (2887299.280435082, 1559432.0336368603): 12,\n",
       " (2887279.4470622046, 1559449.9574906032): 12,\n",
       " (2887431.0046740863, 1559238.2313336667): 12,\n",
       " (2887291.4384144973, 1559369.9555601832): 11,\n",
       " (2887448.0928264735, 1559854.6244945966): 11,\n",
       " (2887943.12884311, 1559389.3059002783): 12,\n",
       " (2887123.3623989914, 1559706.1123753788): 14,\n",
       " (2887179.4620559593, 1559593.7841828177): 13,\n",
       " (2887271.5759487804, 1559402.4944664524): 11,\n",
       " (2887263.214700845, 1559396.5081615676): 10,\n",
       " (2887426.093461973, 1559296.3262185543): 13,\n",
       " (2887409.842676647, 1559396.8430282664): 13,\n",
       " (2887282.6251003584, 1559393.6914883475): 12,\n",
       " (2887383.8911350546, 1559544.6788259242): 11,\n",
       " (2887219.3691683714, 1559740.345856186): 14,\n",
       " (2887445.8154469277, 1559744.106482839): 10,\n",
       " (2887912.4964501252, 1559582.130367831): 13,\n",
       " (2887239.556669873, 1559616.0261651464): 12,\n",
       " (2888057.0249498296, 1559658.970403075): 14,\n",
       " (2887152.0485982066, 1559715.4220512877): 14,\n",
       " (2887176.384916787, 1559724.68132101): 14,\n",
       " (2887347.422521723, 1559611.1889873182): 13,\n",
       " (2887332.1513072383, 1559577.6031499126): 12,\n",
       " (2887304.647258883, 1559564.2120431056): 14}"
      ]
     },
     "execution_count": 198,
     "metadata": {},
     "output_type": "execute_result"
    }
   ],
   "source": [
    "def centralite_eloignement_max(graph):\n",
    "    result = dict()\n",
    "    shortest_paths = nx.shortest_path_length(G)\n",
    "    for node, paths in shortest_paths:\n",
    "        result[node] = max(paths.values())\n",
    "    \n",
    "    return result\n",
    "\n",
    "centralite_eloignement_max(G)"
   ]
  },
  {
   "cell_type": "markdown",
   "id": "6b657cae",
   "metadata": {},
   "source": [
    "## Centralité d'intermédiarité\n",
    "\n",
    "C’est le nombre de liaisons transitant obligatoirement par un sommet.\n",
    "La Centralité d’intermédiarité (CI) est aussi la capacité\n",
    "d'un sommet à contrôler (faciliter, empêcher, gêner) les\n",
    "relations entre d'autres sommets."
   ]
  },
  {
   "cell_type": "code",
   "execution_count": 199,
   "id": "8caa1911",
   "metadata": {},
   "outputs": [
    {
     "data": {
      "text/plain": [
       "{(2888287.6031463104, 1559432.889066195): 222.99699034625485,\n",
       " (2888112.984921865, 1559424.8218111002): 273.1314149494294,\n",
       " (2887585.175692118, 1559103.541461353): 408.4966927272074,\n",
       " (2887496.377101137, 1559185.5645889188): 793.4337787735428,\n",
       " (2887079.5763969366, 1559802.011713958): 28.80870669363317,\n",
       " (2887110.5316347494, 1559816.0568637375): 94.76908544886483,\n",
       " (2888203.3335616216, 1559780.211827004): 379.42722334854665,\n",
       " (2888142.852814935, 1559716.5480214264): 116.05119896443429,\n",
       " (2887328.103184602, 1559857.9402227593): 847.0581688328008,\n",
       " (2887350.5481586475, 1559734.3294361227): 783.6625382651116,\n",
       " (2887405.480998647, 1559418.0087870795): 303.04352935076605,\n",
       " (2887376.6304187467, 1559406.0504239143): 303.7954233030473,\n",
       " (2887214.880775663, 1559508.31709085): 624.5805888963977,\n",
       " (2887190.594470237, 1559572.0924210849): 593.2389222297311,\n",
       " (2888009.7255374426, 1559633.4903572868): 169.7948327815975,\n",
       " (2888065.2359971604, 1559542.0636994846): 98.39963924963925,\n",
       " (2887738.8232167894, 1559392.6569636273): 458.92685353861845,\n",
       " (2887907.799056274, 1559435.8035229356): 145.80975829725824,\n",
       " (2887844.9058529483, 1559505.636170154): 408.4206174136323,\n",
       " (2888101.826026663, 1559451.7649436567): 51.556944444444476,\n",
       " (2887930.0227303766, 1559405.833898464): 96.98908730158728,\n",
       " (2887778.3843564913, 1559840.5846167805): 481.85902568292255,\n",
       " (2887804.9980907775, 1559786.4278225482): 591.9860102724072,\n",
       " (2887749.2523372304, 1559728.2635135183): 476.4153525124117,\n",
       " (2887595.712716776, 1559749.4942305451): 41.945943027560666,\n",
       " (2887608.155696878, 1559852.4882998355): 467.0690027156942,\n",
       " (2888077.065347977, 1559620.3947931076): 0.0,\n",
       " (2887643.078228212, 1559305.8166104131): 535.8208562464367,\n",
       " (2887592.099064801, 1559329.5957901336): 237.47873069912535,\n",
       " (2887453.683420209, 1559399.759849896): 243.91140591864306,\n",
       " (2887459.897766806, 1559363.0442803074): 44.93858663266558,\n",
       " (2887566.310459907, 1559305.2935832653): 48.35963203463204,\n",
       " (2887520.3783636326, 1559332.3972983211): 40.26536007851799,\n",
       " (2887551.7425595922, 1559232.2859743957): 408.9975032435173,\n",
       " (2887487.777341879, 1559268.1597327425): 157.15293308056468,\n",
       " (2887463.4499106454, 1559327.0837383284): 68.22876979258564,\n",
       " (2887446.016114968, 1559292.1562482726): 209.70290957465878,\n",
       " (2887535.1924636727, 1559356.206391433): 151.2097240478819,\n",
       " (2887224.407996079, 1559864.108676379): 820.5690079120225,\n",
       " (2887232.974450433, 1559744.4931052418): 507.6778235653234,\n",
       " (2887197.961701991, 1559851.843258065): 370.6043156598303,\n",
       " (2887214.6837987667, 1559808.2864073152): 24.31468253968254,\n",
       " (2887197.230824969, 1559801.182651739): 32.91313131313133,\n",
       " (2887178.2640544623, 1559842.5173799922): 223.7702247507395,\n",
       " (2887199.4565340905, 1559796.3726287894): 157.39149877899868,\n",
       " (2887152.697572193, 1559780.1949575704): 182.6878570775629,\n",
       " (2887135.9731415715, 1559824.836663695): 184.30223179598175,\n",
       " (2887132.435851993, 1559767.7940775605): 173.24472382192982,\n",
       " (2887100.871671437, 1559755.397454131): 158.77191664544605,\n",
       " (2887373.592767297, 1559608.2669084566): 730.2930709813063,\n",
       " (2887365.789062701, 1559605.5442453218): 381.02142857142866,\n",
       " (2887283.3397563463, 1559634.8713954492): 266.37543290043294,\n",
       " (2887210.7529460033, 1559737.675200742): 0.0,\n",
       " (2887260.033073385, 1559624.6389137376): 271.8484487734487,\n",
       " (2887181.9327387, 1559726.309037784): 347.27601369219,\n",
       " (2887232.0161624076, 1559614.3294335573): 424.0052643026908,\n",
       " (2887159.8499835515, 1559718.1821240208): 93.92068360561008,\n",
       " (2887213.082745106, 1559605.178294424): 329.4405096129362,\n",
       " (2887334.5866174875, 1559524.7031226426): 246.96944444444458,\n",
       " (2887338.898213451, 1559593.7600706597): 80.41468253968252,\n",
       " (2887313.160665299, 1559583.9360302244): 594.5766297428062,\n",
       " (2887284.5139441686, 1559499.4704794767): 942.2675027586793,\n",
       " (2887260.302943143, 1559492.1328033272): 0.0,\n",
       " (2887264.1972992253, 1559560.2659026743): 177.75000000000003,\n",
       " (2887228.4881830364, 1559481.9691707962): 1520.3857539927385,\n",
       " (2887242.163822275, 1559570.3881661573): 39.53333333333333,\n",
       " (2887235.1211896325, 1559551.3129049516): 0.5,\n",
       " (2887354.7705359627, 1559429.1548480357): 103.85944108351232,\n",
       " (2887396.616577056, 1559470.815343217): 176.3449877607773,\n",
       " (2887393.7142396774, 1559489.5194717045): 173.82798848468354,\n",
       " (2887343.261525986, 1559437.7371287679): 112.24847233090264,\n",
       " (2887390.2784807207, 1559507.4791870331): 195.4914260919679,\n",
       " (2887334.484205059, 1559447.1346010794): 117.84836289871123,\n",
       " (2887387.0961364103, 1559523.2010790964): 268.15096482035335,\n",
       " (2887323.370484027, 1559456.7248641935): 188.33838563397384,\n",
       " (2887384.47604606, 1559538.040844532): 362.5468588600941,\n",
       " (2887314.3775695106, 1559467.476510036): 144.36793019072425,\n",
       " (2887350.006628095, 1559530.831963563): 128.77424242424243,\n",
       " (2887304.1281499686, 1559475.7197164344): 235.52229437229443,\n",
       " (2887325.388167255, 1559520.8202402752): 223.05634920634932,\n",
       " (2887294.931937963, 1559485.3739864533): 176.06352813852814,\n",
       " (2887506.256236868, 1559304.120935226): 87.02684939329676,\n",
       " (2887299.280435082, 1559432.0336368603): 169.75543973570285,\n",
       " (2887279.4470622046, 1559449.9574906032): 48.43261183261184,\n",
       " (2887431.0046740863, 1559238.2313336667): 1142.1140526505656,\n",
       " (2887291.4384144973, 1559369.9555601832): 1359.8886197501329,\n",
       " (2887448.0928264735, 1559854.6244945966): 577.0867730036849,\n",
       " (2887943.12884311, 1559389.3059002783): 386.63954987006457,\n",
       " (2887123.3623989914, 1559706.1123753788): 321.0740078548902,\n",
       " (2887179.4620559593, 1559593.7841828177): 598.2870373090961,\n",
       " (2887271.5759487804, 1559402.4944664524): 378.78500641085793,\n",
       " (2887263.214700845, 1559396.5081615676): 1505.3119220197584,\n",
       " (2887426.093461973, 1559296.3262185543): 379.16751996426933,\n",
       " (2887409.842676647, 1559396.8430282664): 339.81531867255563,\n",
       " (2887282.6251003584, 1559393.6914883475): 120.45342892401715,\n",
       " (2887383.8911350546, 1559544.6788259242): 468.99009479083014,\n",
       " (2887219.3691683714, 1559740.345856186): 397.71790293040294,\n",
       " (2887445.8154469277, 1559744.106482839): 640.4572385675328,\n",
       " (2887912.4964501252, 1559582.130367831): 569.6905993516286,\n",
       " (2887239.556669873, 1559616.0261651464): 540.1417091078856,\n",
       " (2888057.0249498296, 1559658.970403075): 46.384912146676875,\n",
       " (2887152.0485982066, 1559715.4220512877): 92.21808632543929,\n",
       " (2887176.384916787, 1559724.68132101): 123.80636818247109,\n",
       " (2887347.422521723, 1559611.1889873182): 203.25674603174593,\n",
       " (2887332.1513072383, 1559577.6031499126): 58.49761904761904,\n",
       " (2887304.647258883, 1559564.2120431056): 0.0}"
      ]
     },
     "execution_count": 199,
     "metadata": {},
     "output_type": "execute_result"
    }
   ],
   "source": [
    "def max_centralite_intermediarite(graph):\n",
    "    return nx.betweenness_centrality(graph, normalized=False, endpoints=False)\n",
    "\n",
    "max_centralite_intermediarite(G)"
   ]
  },
  {
   "cell_type": "code",
   "execution_count": 200,
   "id": "40425df6",
   "metadata": {},
   "outputs": [
    {
     "data": {
      "text/plain": [
       "0.028930817610062894"
      ]
     },
     "execution_count": 200,
     "metadata": {},
     "output_type": "execute_result"
    }
   ],
   "source": [
    "nx.density(G)"
   ]
  },
  {
   "cell_type": "code",
   "execution_count": null,
   "id": "39ea07b8",
   "metadata": {},
   "outputs": [],
   "source": []
  }
 ],
 "metadata": {
  "kernelspec": {
   "display_name": "Python 3 (ipykernel)",
   "language": "python",
   "name": "python3"
  },
  "language_info": {
   "codemirror_mode": {
    "name": "ipython",
    "version": 3
   },
   "file_extension": ".py",
   "mimetype": "text/x-python",
   "name": "python",
   "nbconvert_exporter": "python",
   "pygments_lexer": "ipython3",
   "version": "3.8.12"
  }
 },
 "nbformat": 4,
 "nbformat_minor": 5
}
